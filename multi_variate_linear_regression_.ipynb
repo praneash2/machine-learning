{
  "cells": [
    {
      "cell_type": "markdown",
      "metadata": {
        "id": "view-in-github",
        "colab_type": "text"
      },
      "source": [
        "<a href=\"https://colab.research.google.com/github/praneash2/machine-learning/blob/main/multi_variate_linear_regression_.ipynb\" target=\"_parent\"><img src=\"https://colab.research.google.com/assets/colab-badge.svg\" alt=\"Open In Colab\"/></a>"
      ]
    },
    {
      "cell_type": "code",
      "execution_count": null,
      "metadata": {
        "id": "Z5HEKtm7OyyC"
      },
      "outputs": [],
      "source": [
        "import tensorflow as tf\n",
        "import numpy as np\n",
        "import pandas as pd\n",
        "import matplotlib.pyplot as plt"
      ]
    },
    {
      "cell_type": "code",
      "execution_count": null,
      "metadata": {
        "id": "V9dtIO8UT27Z",
        "colab": {
          "base_uri": "https://localhost:8080/"
        },
        "outputId": "6404bda9-2b26-460e-bf9c-c2e2a72477d6"
      },
      "outputs": [
        {
          "output_type": "stream",
          "name": "stdout",
          "text": [
            "[[[0.296875]\n",
            "  [0.28125 ]\n",
            "  [0.4375  ]]\n",
            "\n",
            " [[0.515625]\n",
            "  [0.5     ]\n",
            "  [0.484375]]\n",
            "\n",
            " [[0.71875 ]\n",
            "  [0.578125]\n",
            "  [0.578125]]\n",
            "\n",
            " ...\n",
            "\n",
            " [[0.4     ]\n",
            "  [0.4     ]\n",
            "  [0.2     ]]\n",
            "\n",
            " [[0.6     ]\n",
            "  [0.6     ]\n",
            "  [0.6     ]]\n",
            "\n",
            " [[0.      ]\n",
            "  [0.6     ]\n",
            "  [0.      ]]]\n"
          ]
        }
      ],
      "source": [
        "df=pd.read_csv('insurance.csv')\n",
        "df.dropna(inplace=True,axis=0)\n",
        "df_train=df.head(1000)\n",
        "age=df_train['age']\n",
        "max_age=max(age)\n",
        "age=age/max_age\n",
        "bmi=df_train['bmi']\n",
        "max_bmi=max(bmi)\n",
        "bmi=bmi/max_bmi\n",
        "children=df_train['children']\n",
        "max_children=max(children)\n",
        "children=children/max_children\n",
        "df_play=pd.DataFrame([age,bmi,children])\n",
        "\n",
        "x=df_play\n",
        "y=df_train.pop('charges')\n",
        "x=np.array([x])\n",
        "\n",
        "\n",
        "y=np.array([y])\n",
        "y_max=np.max(y)\n",
        "y=y/y_max\n",
        "x=x.reshape(-1,3,1)\n",
        "y=y.reshape(-1,1,1)\n",
        "print(x.shape)"
      ]
    },
    {
      "cell_type": "code",
      "execution_count": null,
      "metadata": {
        "colab": {
          "base_uri": "https://localhost:8080/",
          "height": 1000
        },
        "id": "xPRbxCP-T_oR",
        "outputId": "b78d3666-ffa2-4178-f576-77e1ac18b8a4"
      },
      "outputs": [
        {
          "output_type": "stream",
          "name": "stdout",
          "text": [
            "Epoch 1/50\n",
            "5/5 - 0s - loss: 0.3137 - MSE: 0.3137 - 292ms/epoch - 58ms/step\n",
            "Epoch 2/50\n",
            "5/5 - 0s - loss: 0.3051 - MSE: 0.3051 - 17ms/epoch - 3ms/step\n",
            "Epoch 3/50\n",
            "5/5 - 0s - loss: 0.2974 - MSE: 0.2974 - 11ms/epoch - 2ms/step\n",
            "Epoch 4/50\n",
            "5/5 - 0s - loss: 0.2903 - MSE: 0.2903 - 16ms/epoch - 3ms/step\n",
            "Epoch 5/50\n",
            "5/5 - 0s - loss: 0.2838 - MSE: 0.2838 - 12ms/epoch - 2ms/step\n",
            "Epoch 6/50\n",
            "5/5 - 0s - loss: 0.2779 - MSE: 0.2779 - 13ms/epoch - 3ms/step\n",
            "Epoch 7/50\n",
            "5/5 - 0s - loss: 0.2726 - MSE: 0.2726 - 11ms/epoch - 2ms/step\n",
            "Epoch 8/50\n",
            "5/5 - 0s - loss: 0.2677 - MSE: 0.2677 - 13ms/epoch - 3ms/step\n",
            "Epoch 9/50\n",
            "5/5 - 0s - loss: 0.2631 - MSE: 0.2631 - 12ms/epoch - 2ms/step\n",
            "Epoch 10/50\n",
            "5/5 - 0s - loss: 0.2590 - MSE: 0.2590 - 13ms/epoch - 3ms/step\n",
            "Epoch 11/50\n",
            "5/5 - 0s - loss: 0.2552 - MSE: 0.2552 - 14ms/epoch - 3ms/step\n",
            "Epoch 12/50\n",
            "5/5 - 0s - loss: 0.2517 - MSE: 0.2517 - 14ms/epoch - 3ms/step\n",
            "Epoch 13/50\n",
            "5/5 - 0s - loss: 0.2485 - MSE: 0.2485 - 16ms/epoch - 3ms/step\n",
            "Epoch 14/50\n",
            "5/5 - 0s - loss: 0.2455 - MSE: 0.2455 - 11ms/epoch - 2ms/step\n",
            "Epoch 15/50\n",
            "5/5 - 0s - loss: 0.2427 - MSE: 0.2427 - 12ms/epoch - 2ms/step\n",
            "Epoch 16/50\n",
            "5/5 - 0s - loss: 0.2402 - MSE: 0.2402 - 12ms/epoch - 2ms/step\n",
            "Epoch 17/50\n",
            "5/5 - 0s - loss: 0.2378 - MSE: 0.2378 - 14ms/epoch - 3ms/step\n",
            "Epoch 18/50\n",
            "5/5 - 0s - loss: 0.2356 - MSE: 0.2356 - 14ms/epoch - 3ms/step\n",
            "Epoch 19/50\n",
            "5/5 - 0s - loss: 0.2335 - MSE: 0.2335 - 12ms/epoch - 2ms/step\n",
            "Epoch 20/50\n",
            "5/5 - 0s - loss: 0.2316 - MSE: 0.2316 - 13ms/epoch - 3ms/step\n",
            "Epoch 21/50\n",
            "5/5 - 0s - loss: 0.2298 - MSE: 0.2298 - 13ms/epoch - 3ms/step\n",
            "Epoch 22/50\n",
            "5/5 - 0s - loss: 0.2281 - MSE: 0.2281 - 13ms/epoch - 3ms/step\n",
            "Epoch 23/50\n",
            "5/5 - 0s - loss: 0.2265 - MSE: 0.2265 - 13ms/epoch - 3ms/step\n",
            "Epoch 24/50\n",
            "5/5 - 0s - loss: 0.2250 - MSE: 0.2250 - 15ms/epoch - 3ms/step\n",
            "Epoch 25/50\n",
            "5/5 - 0s - loss: 0.2236 - MSE: 0.2236 - 15ms/epoch - 3ms/step\n",
            "Epoch 26/50\n",
            "5/5 - 0s - loss: 0.2222 - MSE: 0.2222 - 17ms/epoch - 3ms/step\n",
            "Epoch 27/50\n",
            "5/5 - 0s - loss: 0.2210 - MSE: 0.2210 - 16ms/epoch - 3ms/step\n",
            "Epoch 28/50\n",
            "5/5 - 0s - loss: 0.2198 - MSE: 0.2198 - 18ms/epoch - 4ms/step\n",
            "Epoch 29/50\n",
            "5/5 - 0s - loss: 0.2186 - MSE: 0.2186 - 17ms/epoch - 3ms/step\n",
            "Epoch 30/50\n",
            "5/5 - 0s - loss: 0.2175 - MSE: 0.2175 - 16ms/epoch - 3ms/step\n",
            "Epoch 31/50\n",
            "5/5 - 0s - loss: 0.2165 - MSE: 0.2165 - 16ms/epoch - 3ms/step\n",
            "Epoch 32/50\n",
            "5/5 - 0s - loss: 0.2154 - MSE: 0.2154 - 15ms/epoch - 3ms/step\n",
            "Epoch 33/50\n",
            "5/5 - 0s - loss: 0.2145 - MSE: 0.2145 - 13ms/epoch - 3ms/step\n",
            "Epoch 34/50\n",
            "5/5 - 0s - loss: 0.2135 - MSE: 0.2135 - 12ms/epoch - 2ms/step\n",
            "Epoch 35/50\n",
            "5/5 - 0s - loss: 0.2127 - MSE: 0.2127 - 26ms/epoch - 5ms/step\n",
            "Epoch 36/50\n",
            "5/5 - 0s - loss: 0.2118 - MSE: 0.2118 - 15ms/epoch - 3ms/step\n",
            "Epoch 37/50\n",
            "5/5 - 0s - loss: 0.2109 - MSE: 0.2109 - 14ms/epoch - 3ms/step\n",
            "Epoch 38/50\n",
            "5/5 - 0s - loss: 0.2101 - MSE: 0.2101 - 15ms/epoch - 3ms/step\n",
            "Epoch 39/50\n",
            "5/5 - 0s - loss: 0.2093 - MSE: 0.2093 - 17ms/epoch - 3ms/step\n",
            "Epoch 40/50\n",
            "5/5 - 0s - loss: 0.2086 - MSE: 0.2086 - 14ms/epoch - 3ms/step\n",
            "Epoch 41/50\n",
            "5/5 - 0s - loss: 0.2078 - MSE: 0.2078 - 17ms/epoch - 3ms/step\n",
            "Epoch 42/50\n",
            "5/5 - 0s - loss: 0.2071 - MSE: 0.2071 - 16ms/epoch - 3ms/step\n",
            "Epoch 43/50\n",
            "5/5 - 0s - loss: 0.2064 - MSE: 0.2064 - 15ms/epoch - 3ms/step\n",
            "Epoch 44/50\n",
            "5/5 - 0s - loss: 0.2057 - MSE: 0.2057 - 13ms/epoch - 3ms/step\n",
            "Epoch 45/50\n",
            "5/5 - 0s - loss: 0.2050 - MSE: 0.2050 - 13ms/epoch - 3ms/step\n",
            "Epoch 46/50\n",
            "5/5 - 0s - loss: 0.2043 - MSE: 0.2043 - 13ms/epoch - 3ms/step\n",
            "Epoch 47/50\n",
            "5/5 - 0s - loss: 0.2036 - MSE: 0.2036 - 16ms/epoch - 3ms/step\n",
            "Epoch 48/50\n",
            "5/5 - 0s - loss: 0.2030 - MSE: 0.2030 - 17ms/epoch - 3ms/step\n",
            "Epoch 49/50\n",
            "5/5 - 0s - loss: 0.2023 - MSE: 0.2023 - 12ms/epoch - 2ms/step\n",
            "Epoch 50/50\n",
            "5/5 - 0s - loss: 0.2017 - MSE: 0.2017 - 13ms/epoch - 3ms/step\n"
          ]
        },
        {
          "output_type": "display_data",
          "data": {
            "text/plain": [
              "<Figure size 432x288 with 1 Axes>"
            ],
            "image/png": "[encoded data removed]"
          },
          "metadata": {
            "needs_background": "light"
          }
        }
      ],
      "source": [
        "model=tf.keras.Sequential()\n",
        "model.add(tf.keras.layers.Input(shape=(3,)))\n",
        "model.add(tf.keras.layers.Dense(1))\n",
        "model.add(tf.keras.layers.Dense(1))\n",
        "\n",
        "model.compile(optimizer=tf.keras.optimizers.SGD(learning_rate=1e-3),loss='MSE',metrics='MSE')\n",
        "history=model.fit(x,y,epochs=50,batch_size=200,verbose=2)\n",
        "plt.plot(history.history['loss'])\n",
        "plt.show()"
      ]
    },
    {
      "cell_type": "code",
      "execution_count": null,
      "metadata": {
        "colab": {
          "base_uri": "https://localhost:8080/"
        },
        "id": "mVR1O0v1jAEq",
        "outputId": "83c31e76-dc38-47d3-b783-877027c5ece5"
      },
      "outputs": [
        {
          "output_type": "stream",
          "name": "stdout",
          "text": [
            "Model: \"sequential_1\"\n",
            "_________________________________________________________________\n",
            " Layer (type)                Output Shape              Param #   \n",
            "=================================================================\n",
            " dense_2 (Dense)             (None, 1)                 4         \n",
            "                                                                 \n",
            " dense_3 (Dense)             (None, 1)                 2         \n",
            "                                                                 \n",
            "=================================================================\n",
            "Total params: 6\n",
            "Trainable params: 6\n",
            "Non-trainable params: 0\n",
            "_________________________________________________________________\n"
          ]
        }
      ],
      "source": [
        "model.summary()"
      ]
    },
    {
      "cell_type": "code",
      "execution_count": null,
      "metadata": {
        "colab": {
          "base_uri": "https://localhost:8080/"
        },
        "id": "Os_1-MmiVMBP",
        "outputId": "5f6bdf18-64d2-42db-f2ff-af8d5bd80305"
      },
      "outputs": [
        {
          "output_type": "stream",
          "name": "stdout",
          "text": [
            "[-35252.797]\n",
            "[[3756.6216]]\n"
          ]
        }
      ],
      "source": [
        "val=5\n",
        "a=model.predict(x)\n",
        "print(a[val]*y_max)\n",
        "print(y[val]*y_max)"
      ]
    },
    {
      "cell_type": "code",
      "execution_count": null,
      "metadata": {
        "id": "bz0Quj4QaphT"
      },
      "outputs": [],
      "source": []
    },
    {
      "cell_type": "code",
      "execution_count": null,
      "metadata": {
        "id": "e3xkOk-3axW8"
      },
      "outputs": [],
      "source": []
    },
    {
      "cell_type": "code",
      "execution_count": null,
      "metadata": {
        "id": "v8TC1qCnyhDy"
      },
      "outputs": [],
      "source": []
    },
    {
      "cell_type": "code",
      "execution_count": null,
      "metadata": {
        "id": "5rS5V6z0zEsr"
      },
      "outputs": [],
      "source": []
    }
  ],
  "metadata": {
    "accelerator": "TPU",
    "colab": {
      "provenance": [],
      "authorship_tag": "ABX9TyMsycmY4U3I3/FSSf5mnEXE",
      "include_colab_link": true
    },
    "kernelspec": {
      "display_name": "Python 3",
      "name": "python3"
    },
    "language_info": {
      "name": "python"
    }
  },
  "nbformat": 4,
  "nbformat_minor": 0
}