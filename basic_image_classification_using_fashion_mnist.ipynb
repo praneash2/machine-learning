{
  "nbformat": 4,
  "nbformat_minor": 0,
  "metadata": {
    "colab": {
      "provenance": [],
      "authorship_tag": "ABX9TyN9YGKwXA3iS8GBXbG/Chwg",
      "include_colab_link": true
    },
    "kernelspec": {
      "name": "python3",
      "display_name": "Python 3"
    },
    "language_info": {
      "name": "python"
    },
    "accelerator": "TPU"
  },
  "cells": [
    {
      "cell_type": "markdown",
      "metadata": {
        "id": "view-in-github",
        "colab_type": "text"
      },
      "source": [
        "<a href=\"https://colab.research.google.com/github/praneash2/machine-learning/blob/main/basic_image_classification_using_fashion_mnist.ipynb\" target=\"_parent\"><img src=\"https://colab.research.google.com/assets/colab-badge.svg\" alt=\"Open In Colab\"/></a>"
      ]
    },
    {
      "cell_type": "code",
      "execution_count": null,
      "metadata": {
        "id": "e65U_YGAvEKM"
      },
      "outputs": [],
      "source": [
        "import pandas as pd \n",
        "import tensorflow as tf\n",
        "import numpy as np\n",
        "import matplotlib.pyplot as plt"
      ]
    },
    {
      "cell_type": "code",
      "source": [
        "#impoting the fashion mnist dataset\n",
        "fashion_mnist=tf.keras.datasets.fashion_mnist"
      ],
      "metadata": {
        "id": "XHO7fm3gvWOI"
      },
      "execution_count": null,
      "outputs": []
    },
    {
      "cell_type": "code",
      "source": [
        "(train_feature,train_label),(test_image,test_label)=fashion_mnist.load_data()#splitting the dataset into train and test "
      ],
      "metadata": {
        "id": "IVjVL8cKvs-F",
        "colab": {
          "base_uri": "https://localhost:8080/"
        },
        "outputId": "d8326262-18a8-40c5-bd70-b365b8ae9b1d"
      },
      "execution_count": null,
      "outputs": [
        {
          "output_type": "stream",
          "name": "stdout",
          "text": [
            "Downloading data from https://storage.googleapis.com/tensorflow/tf-keras-datasets/train-labels-idx1-ubyte.gz\n",
            "32768/29515 [=================================] - 0s 0us/step\n",
            "40960/29515 [=========================================] - 0s 0us/step\n",
            "Downloading data from https://storage.googleapis.com/tensorflow/tf-keras-datasets/train-images-idx3-ubyte.gz\n",
            "26427392/26421880 [==============================] - 0s 0us/step\n",
            "26435584/26421880 [==============================] - 0s 0us/step\n",
            "Downloading data from https://storage.googleapis.com/tensorflow/tf-keras-datasets/t10k-labels-idx1-ubyte.gz\n",
            "16384/5148 [===============================================================================================] - 0s 0us/step\n",
            "Downloading data from https://storage.googleapis.com/tensorflow/tf-keras-datasets/t10k-images-idx3-ubyte.gz\n",
            "4423680/4422102 [==============================] - 0s 0us/step\n",
            "4431872/4422102 [==============================] - 0s 0us/step\n"
          ]
        }
      ]
    },
    {
      "cell_type": "code",
      "source": [
        "class_names=['T-shirt/top', 'Trouser', 'Pullover', 'Dress', 'Coat',\n",
        "               'Sandal', 'Shirt', 'Sneaker', 'Bag', 'Ankle boot']\n",
        "train_feature=train_feature/255.0\n",
        "test_feature=test_image/255.0               "
      ],
      "metadata": {
        "id": "hcUxKe1jwPs8"
      },
      "execution_count": null,
      "outputs": []
    },
    {
      "cell_type": "code",
      "source": [
        "print(len(test_image))\n",
        "print(len(test_label))"
      ],
      "metadata": {
        "colab": {
          "base_uri": "https://localhost:8080/"
        },
        "id": "LOvFvWf9BeWY",
        "outputId": "35b2fe7b-7091-4c80-98a7-2638e15ecc3c"
      },
      "execution_count": null,
      "outputs": [
        {
          "output_type": "stream",
          "name": "stdout",
          "text": [
            "10000\n",
            "10000\n"
          ]
        }
      ]
    },
    {
      "cell_type": "code",
      "source": [
        "#plt.figure(figsize=(3,3),dpi=300)\n",
        "for i in range(6):\n",
        "  plt.subplot(2,5,i+1)\n",
        "  plt.xlabel(class_names[train_label[i]])\n",
        "  plt.imshow(train_feature[i],cmap=plt.cm.binary)\n",
        "plt.show()"
      ],
      "metadata": {
        "colab": {
          "base_uri": "https://localhost:8080/",
          "height": 241
        },
        "id": "lmp9f7MKwL7m",
        "outputId": "1e4e1cf3-da4b-4fe5-b7df-7909151f1965"
      },
      "execution_count": null,
      "outputs": [
        {
          "output_type": "display_data",
          "data": {
            "image/png": "[encoded data removed]",
            "text/plain": [
              "<Figure size 432x288 with 6 Axes>"
            ]
          },
          "metadata": {
            "needs_background": "light"
          }
        }
      ]
    },
    {
      "cell_type": "code",
      "source": [
        "#buliding the model \n",
        "model=tf.keras.models.Sequential([tf.keras.layers.Flatten(input_shape=(28,28)),\n",
        "                                  tf.keras.layers.Dense(128,activation=\"relu\")\n",
        "                                  ,tf.keras.layers.Dense(10)])\n"
      ],
      "metadata": {
        "id": "xONsQIYv3byz"
      },
      "execution_count": null,
      "outputs": []
    },
    {
      "cell_type": "code",
      "source": [
        "model.compile(optimizer=tf.keras.optimizers.Adam(learning_rate=0.001),\n",
        "              loss=tf.keras.losses.SparseCategoricalCrossentropy(from_logits=True),metrics=\"accuracy\")"
      ],
      "metadata": {
        "id": "0TPVpYLW5koZ"
      },
      "execution_count": null,
      "outputs": []
    },
    {
      "cell_type": "code",
      "source": [
        "model.fit(train_feature,train_label,epochs=20,batch_size=30,verbose=2)"
      ],
      "metadata": {
        "colab": {
          "base_uri": "https://localhost:8080/"
        },
        "id": "0R6rZtWq6i36",
        "outputId": "a85e8734-638b-46a8-caa7-b174793b53ae"
      },
      "execution_count": null,
      "outputs": [
        {
          "output_type": "stream",
          "name": "stdout",
          "text": [
            "Epoch 1/20\n",
            "2000/2000 - 5s - loss: 0.4957 - accuracy: 0.8243 - 5s/epoch - 2ms/step\n",
            "Epoch 2/20\n",
            "2000/2000 - 4s - loss: 0.3714 - accuracy: 0.8672 - 4s/epoch - 2ms/step\n",
            "Epoch 3/20\n",
            "2000/2000 - 4s - loss: 0.3355 - accuracy: 0.8788 - 4s/epoch - 2ms/step\n",
            "Epoch 4/20\n",
            "2000/2000 - 4s - loss: 0.3117 - accuracy: 0.8859 - 4s/epoch - 2ms/step\n",
            "Epoch 5/20\n",
            "2000/2000 - 4s - loss: 0.2927 - accuracy: 0.8931 - 4s/epoch - 2ms/step\n",
            "Epoch 6/20\n",
            "2000/2000 - 4s - loss: 0.2780 - accuracy: 0.8985 - 4s/epoch - 2ms/step\n",
            "Epoch 7/20\n",
            "2000/2000 - 4s - loss: 0.2671 - accuracy: 0.9013 - 4s/epoch - 2ms/step\n",
            "Epoch 8/20\n",
            "2000/2000 - 4s - loss: 0.2556 - accuracy: 0.9055 - 4s/epoch - 2ms/step\n",
            "Epoch 9/20\n",
            "2000/2000 - 4s - loss: 0.2449 - accuracy: 0.9089 - 4s/epoch - 2ms/step\n",
            "Epoch 10/20\n",
            "2000/2000 - 4s - loss: 0.2383 - accuracy: 0.9113 - 4s/epoch - 2ms/step\n",
            "Epoch 11/20\n",
            "2000/2000 - 4s - loss: 0.2282 - accuracy: 0.9153 - 4s/epoch - 2ms/step\n",
            "Epoch 12/20\n",
            "2000/2000 - 4s - loss: 0.2219 - accuracy: 0.9172 - 4s/epoch - 2ms/step\n",
            "Epoch 13/20\n",
            "2000/2000 - 4s - loss: 0.2160 - accuracy: 0.9192 - 4s/epoch - 2ms/step\n",
            "Epoch 14/20\n",
            "2000/2000 - 4s - loss: 0.2093 - accuracy: 0.9224 - 4s/epoch - 2ms/step\n",
            "Epoch 15/20\n",
            "2000/2000 - 4s - loss: 0.2033 - accuracy: 0.9234 - 4s/epoch - 2ms/step\n",
            "Epoch 16/20\n",
            "2000/2000 - 5s - loss: 0.1960 - accuracy: 0.9267 - 5s/epoch - 2ms/step\n",
            "Epoch 17/20\n",
            "2000/2000 - 4s - loss: 0.1903 - accuracy: 0.9284 - 4s/epoch - 2ms/step\n",
            "Epoch 18/20\n",
            "2000/2000 - 4s - loss: 0.1855 - accuracy: 0.9302 - 4s/epoch - 2ms/step\n",
            "Epoch 19/20\n",
            "2000/2000 - 4s - loss: 0.1804 - accuracy: 0.9325 - 4s/epoch - 2ms/step\n",
            "Epoch 20/20\n",
            "2000/2000 - 4s - loss: 0.1774 - accuracy: 0.9340 - 4s/epoch - 2ms/step\n"
          ]
        },
        {
          "output_type": "execute_result",
          "data": {
            "text/plain": [
              "<keras.callbacks.History at 0x7f8169e3e410>"
            ]
          },
          "metadata": {},
          "execution_count": 9
        }
      ]
    },
    {
      "cell_type": "code",
      "source": [
        "test_loss, test_acc = model.evaluate(test_feature, test_label, verbose=2)"
      ],
      "metadata": {
        "colab": {
          "base_uri": "https://localhost:8080/"
        },
        "id": "C2dr3-FX_QWo",
        "outputId": "41242b1a-219f-49f6-a203-c146eacec02e"
      },
      "execution_count": null,
      "outputs": [
        {
          "output_type": "stream",
          "name": "stdout",
          "text": [
            "313/313 - 1s - loss: 0.3687 - accuracy: 0.8847 - 526ms/epoch - 2ms/step\n"
          ]
        }
      ]
    },
    {
      "cell_type": "code",
      "source": [
        "prediction_model=tf.keras.models.Sequential([model,\n",
        "                                            tf.keras.layers.Activation(\"softmax\")])"
      ],
      "metadata": {
        "id": "7qobBeHs68x8"
      },
      "execution_count": null,
      "outputs": []
    },
    {
      "cell_type": "code",
      "source": [
        "prediction=prediction_model.predict(test_feature)\n"
      ],
      "metadata": {
        "id": "WfKQgKAa9nDV"
      },
      "execution_count": null,
      "outputs": []
    },
    {
      "cell_type": "code",
      "source": [
        "print(prediction[0])\n",
        "label=np.argmax(prediction[0])\n",
        "print(class_names[label])\n",
        "print(label)"
      ],
      "metadata": {
        "colab": {
          "base_uri": "https://localhost:8080/"
        },
        "id": "GeLY7vYN9vlS",
        "outputId": "994f7726-cc59-4891-ff85-eff684cefeb8"
      },
      "execution_count": null,
      "outputs": [
        {
          "output_type": "stream",
          "name": "stdout",
          "text": [
            "[2.1208617e-10 6.4482579e-11 1.7851580e-10 4.6546567e-09 1.3347538e-10\n",
            " 4.0496341e-03 7.3094619e-09 2.4348036e-03 3.6747379e-11 9.9351549e-01]\n",
            "Ankle boot\n",
            "9\n"
          ]
        }
      ]
    },
    {
      "cell_type": "code",
      "source": [
        "print(class_names[test_label[0]])\n",
        "plt.imshow(test_feature[test_label[0]])"
      ],
      "metadata": {
        "colab": {
          "base_uri": "https://localhost:8080/",
          "height": 300
        },
        "id": "TXNwVWMU-xC4",
        "outputId": "0ad6b85d-6eba-43c4-e0ff-cf73a6ef0958"
      },
      "execution_count": null,
      "outputs": [
        {
          "output_type": "stream",
          "name": "stdout",
          "text": [
            "Ankle boot\n"
          ]
        },
        {
          "output_type": "execute_result",
          "data": {
            "text/plain": [
              "<matplotlib.image.AxesImage at 0x7f8169d4c650>"
            ]
          },
          "metadata": {},
          "execution_count": 14
        },
        {
          "output_type": "display_data",
          "data": {
            "image/png": "[encoded data removed]",
            "text/plain": [
              "<Figure size 432x288 with 1 Axes>"
            ]
          },
          "metadata": {
            "needs_background": "light"
          }
        }
      ]
    },
    {
      "cell_type": "code",
      "source": [
        "print(len(train_feature))\n",
        "print(len(train_label))"
      ],
      "metadata": {
        "colab": {
          "base_uri": "https://localhost:8080/"
        },
        "id": "b_mTVGQMBlr3",
        "outputId": "65e10d56-e175-429f-d065-f47836a7cd29"
      },
      "execution_count": null,
      "outputs": [
        {
          "output_type": "stream",
          "name": "stdout",
          "text": [
            "60000\n",
            "60000\n"
          ]
        }
      ]
    },
    {
      "cell_type": "code",
      "source": [
        "import tensorflow as tf\n",
        "from tensorflow import keras\n",
        "initial_learning_rate = 0.1\n",
        "decay_steps = 1.0\n",
        "decay_rate = 0.5\n",
        "learning_rate_fn = keras.optimizers.schedules.InverseTimeDecay(\n",
        "  initial_learning_rate, decay_steps, decay_rate)\n"
      ],
      "metadata": {
        "id": "m4XaRym0B4Xe",
        "colab": {
          "base_uri": "https://localhost:8080/",
          "height": 200
        },
        "outputId": "db4c287b-e550-4859-e741-b638a9a1c96e"
      },
      "execution_count": null,
      "outputs": [
        {
          "output_type": "error",
          "ename": "TypeError",
          "evalue": "ignored",
          "traceback": [
            "\u001b[0;31m---------------------------------------------------------------------------\u001b[0m",
            "\u001b[0;31mTypeError\u001b[0m                                 Traceback (most recent call last)",
            "\u001b[0;32m<ipython-input-20-f48f48b67621>\u001b[0m in \u001b[0;36m<module>\u001b[0;34m()\u001b[0m\n\u001b[1;32m      7\u001b[0m   initial_learning_rate, decay_steps, decay_rate)\n\u001b[1;32m      8\u001b[0m \u001b[0;34m\u001b[0m\u001b[0m\n\u001b[0;32m----> 9\u001b[0;31m \u001b[0mprint\u001b[0m\u001b[0;34m(\u001b[0m\u001b[0mlist\u001b[0m\u001b[0;34m(\u001b[0m\u001b[0mlearning_rate_fn\u001b[0m\u001b[0;34m)\u001b[0m\u001b[0;34m)\u001b[0m\u001b[0;34m\u001b[0m\u001b[0;34m\u001b[0m\u001b[0m\n\u001b[0m",
            "\u001b[0;31mTypeError\u001b[0m: 'InverseTimeDecay' object is not iterable"
          ]
        }
      ]
    },
    {
      "cell_type": "code",
      "source": [],
      "metadata": {
        "id": "WXF83corMvtR"
      },
      "execution_count": null,
      "outputs": []
    }
  ]
}